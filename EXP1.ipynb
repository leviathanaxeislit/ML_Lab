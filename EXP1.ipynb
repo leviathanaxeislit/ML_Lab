{
  "nbformat": 4,
  "nbformat_minor": 0,
  "metadata": {
    "colab": {
      "provenance": []
    },
    "kernelspec": {
      "name": "python3",
      "display_name": "Python 3"
    },
    "language_info": {
      "name": "python"
    }
  },
  "cells": [
    {
      "cell_type": "code",
      "execution_count": 11,
      "metadata": {
        "colab": {
          "base_uri": "https://localhost:8080/"
        },
        "id": "SyB0rvuevyKO",
        "outputId": "3b533214-c06c-44b3-83ee-e7b132d5b898"
      },
      "outputs": [
        {
          "output_type": "stream",
          "name": "stdout",
          "text": [
            "   Example    Sky AirTemp Humidity    Wind Water Forecast EnjoySport\n",
            "0        1  Sunny    Warm   Normal  Strong  Warm     Same        Yes\n",
            "1        2  Sunny    Warm     High  Strong  Warm     Same        Yes\n",
            "2        3  Rainy    Cold     High  Strong  Warm   Change         No\n",
            "3        4  Sunny    Warm     High  Strong  Cool   Change        Yes\n",
            "[[1 'Sunny' 'Warm' 'Normal' 'Strong' 'Warm' 'Same']\n",
            " [2 'Sunny' 'Warm' 'High' 'Strong' 'Warm' 'Same']\n",
            " [3 'Rainy' 'Cold' 'High' 'Strong' 'Warm' 'Change']\n",
            " [4 'Sunny' 'Warm' 'High' 'Strong' 'Cool' 'Change']]\n",
            "['Yes' 'Yes' 'No' 'Yes']\n",
            "The specific hypothesis is: ['?', 'Sunny', 'Warm', '?', 'Strong', '?', '?']\n"
          ]
        }
      ],
      "source": [
        "import pandas as pd\n",
        "\n",
        "data = pd.read_csv('exp1.csv')\n",
        "print(data)\n",
        "concepts = data.iloc[:, :-1].values\n",
        "print(concepts)\n",
        "target = data.iloc[:, -1].values\n",
        "print(target)\n",
        "\n",
        "def train(concepts, target):\n",
        "    specific_h = concepts[0]\n",
        "    for i, h in enumerate(concepts):\n",
        "        if target[i] == \"Yes\":\n",
        "            specific_h = [h[x] if h[x] == specific_h[x] else \"?\" for x in range(len(specific_h))]\n",
        "    return specific_h\n",
        "\n",
        "specific_h = train(concepts, target)\n",
        "print(\"The specific hypothesis is:\", specific_h)"
      ]
    }
  ]
}