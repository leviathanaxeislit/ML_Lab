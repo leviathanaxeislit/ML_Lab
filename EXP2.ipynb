{
  "nbformat": 4,
  "nbformat_minor": 0,
  "metadata": {
    "colab": {
      "provenance": []
    },
    "kernelspec": {
      "name": "python3",
      "display_name": "Python 3"
    },
    "language_info": {
      "name": "python"
    }
  },
  "cells": [
    {
      "cell_type": "code",
      "execution_count": 9,
      "metadata": {
        "colab": {
          "base_uri": "https://localhost:8080/"
        },
        "id": "SyB0rvuevyKO",
        "outputId": "e136682c-c170-44cb-83f9-91a9c8ef418e"
      },
      "outputs": [
        {
          "output_type": "stream",
          "name": "stdout",
          "text": [
            "Final S:\n",
            "['?' 'Sunny' 'Warm' '?' 'Strong' '?' '?']\n",
            "Final G:\n",
            "[['?', '?', '?', '?', '?', '?', '?'], ['?', 'Sunny', '?', '?', '?', '?', '?'], ['?', '?', 'Warm', '?', '?', '?', '?'], ['?', '?', '?', '?', '?', '?', '?'], ['?', '?', '?', '?', '?', '?', '?'], ['?', '?', '?', '?', '?', '?', '?'], ['?', '?', '?', '?', '?', '?', '?']]\n"
          ]
        }
      ],
      "source": [
        "import pandas as pd\n",
        "\n",
        "# Load data from CSV\n",
        "data = pd.read_csv('https://raw.githubusercontent.com/leviathanaxeislit/ML_Lab/main/exp1.csv')\n",
        "\n",
        "# Separate features from target\n",
        "concepts, target = data.iloc[:, :-1].values, data.iloc[:, -1].values\n",
        "\n",
        "# Initialize S0 with the first instance from concepts\n",
        "specific_h = concepts[0].copy()\n",
        "general_h = [['?' for i in range(len(specific_h))] for i in range(len(specific_h))]\n",
        "\n",
        "# The learning iterations\n",
        "for i, h in enumerate(concepts):\n",
        "    # Check if the hypothesis has a positive target\n",
        "    if target[i] == \"Yes\":\n",
        "        for x in range(len(specific_h)):\n",
        "            # Change values in S & G only if values change\n",
        "            if h[x] != specific_h[x]:\n",
        "                specific_h[x] = '?'\n",
        "                general_h[x][x] = '?'\n",
        "    # Check if the hypothesis has a negative target\n",
        "    else:\n",
        "        for x in range(len(specific_h)):\n",
        "            # For negative hypothesis change values only in G\n",
        "            if h[x] != specific_h[x]:\n",
        "                general_h[x][x] = specific_h[x]\n",
        "            else:\n",
        "                general_h[x][x] = '?'\n",
        "\n",
        "# Find indices where we have empty rows\n",
        "indices = [i for i, val in enumerate(general_h) if val == ['?', '?', '?', '?', '?', '?']]\n",
        "\n",
        "# Remove those rows from general_h\n",
        "for i in indices:\n",
        "    general_h.remove(['?', '?', '?', '?', '?', '?'])\n",
        "\n",
        "# Return final values\n",
        "print(\"Final S:\", specific_h, sep=\"\\n\")\n",
        "print(\"Final G:\", general_h, sep=\"\\n\")"
      ]
    }
  ]
}
