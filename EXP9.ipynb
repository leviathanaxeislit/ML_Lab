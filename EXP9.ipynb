{
  "nbformat": 4,
  "nbformat_minor": 0,
  "metadata": {
    "colab": {
      "provenance": []
    },
    "kernelspec": {
      "name": "python3",
      "display_name": "Python 3"
    },
    "language_info": {
      "name": "python"
    }
  },
  "cells": [
    {
      "cell_type": "code",
      "execution_count": 3,
      "metadata": {
        "colab": {
          "base_uri": "https://localhost:8080/"
        },
        "id": "SyB0rvuevyKO",
        "outputId": "66ccaccf-31cd-4e57-d2ad-a7a577f225f8"
      },
      "outputs": [
        {
          "output_type": "stream",
          "name": "stdout",
          "text": [
            "     sepal length (cm)  sepal width (cm)  petal length (cm)  petal width (cm)\n",
            "0                  5.1               3.5                1.4               0.2\n",
            "1                  4.9               3.0                1.4               0.2\n",
            "2                  4.7               3.2                1.3               0.2\n",
            "3                  4.6               3.1                1.5               0.2\n",
            "4                  5.0               3.6                1.4               0.2\n",
            "..                 ...               ...                ...               ...\n",
            "145                6.7               3.0                5.2               2.3\n",
            "146                6.3               2.5                5.0               1.9\n",
            "147                6.5               3.0                5.2               2.0\n",
            "148                6.2               3.4                5.4               2.3\n",
            "149                5.9               3.0                5.1               1.8\n",
            "\n",
            "[150 rows x 4 columns]\n",
            "['virginica' 'virginica' 'setosa' 'versicolor' 'virginica' 'virginica'\n",
            " 'versicolor' 'virginica' 'setosa' 'setosa' 'versicolor' 'setosa' 'setosa'\n",
            " 'virginica' 'virginica' 'virginica' 'virginica' 'virginica' 'virginica'\n",
            " 'setosa' 'versicolor' 'versicolor' 'versicolor' 'virginica' 'setosa'\n",
            " 'virginica' 'virginica' 'versicolor' 'versicolor' 'setosa']\n",
            "Training accuracy Score is:  0.975\n",
            "Testing accuracy Score is:  0.9666666666666667\n",
            "Training Confusion Matrix is: \n",
            " [[42  0  0]\n",
            " [ 0 41  2]\n",
            " [ 0  1 34]]\n",
            "Testing Confusion Matrix is: \n",
            " [[ 8  0  0]\n",
            " [ 0  7  0]\n",
            " [ 0  1 14]]\n"
          ]
        }
      ],
      "source": [
        "import numpy as np\n",
        "import pandas as pd\n",
        "import matplotlib.pyplot as plt\n",
        "from sklearn.datasets import load_iris\n",
        "from sklearn.model_selection import train_test_split\n",
        "from sklearn.neighbors import KNeighborsClassifier\n",
        "from sklearn.metrics import accuracy_score, confusion_matrix\n",
        "\n",
        "# Load the inbuilt data into pandas dataframe\n",
        "data = load_iris()\n",
        "df = pd.DataFrame(data.data, columns=data.feature_names)\n",
        "print(df)\n",
        "df['Class'] = data.target_names[data.target]\n",
        "\n",
        "# Split the data into training and testing sets\n",
        "x = df.iloc[:, :-1].values\n",
        "y = df.Class.values\n",
        "x_train, x_test, y_train, y_test = train_test_split(x, y, test_size=0.2)\n",
        "\n",
        "# Create and fit the KNN model\n",
        "knn_classifier = KNeighborsClassifier(n_neighbors=5)\n",
        "knn_classifier.fit(x_train, y_train)\n",
        "\n",
        "# Make predictions and calculate accuracy scores and confusion matrices\n",
        "predictions = knn_classifier.predict(x_test)\n",
        "print(predictions)\n",
        "print(\"Training accuracy Score is: \", accuracy_score(y_train, knn_classifier.predict(x_train)))\n",
        "print(\"Testing accuracy Score is: \", accuracy_score(y_test, knn_classifier.predict(x_test)))\n",
        "print(\"Training Confusion Matrix is: \\n\", confusion_matrix(y_train, knn_classifier.predict(x_train)))\n",
        "print(\"Testing Confusion Matrix is: \\n\", confusion_matrix(y_test, knn_classifier.predict(x_test)))\n",
        "\n"
      ]
    }
  ]
}