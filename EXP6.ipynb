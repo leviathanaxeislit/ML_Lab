{
  "nbformat": 4,
  "nbformat_minor": 0,
  "metadata": {
    "colab": {
      "provenance": []
    },
    "kernelspec": {
      "name": "python3",
      "display_name": "Python 3"
    },
    "language_info": {
      "name": "python"
    }
  },
  "cells": [
    {
      "cell_type": "code",
      "execution_count": 6,
      "metadata": {
        "colab": {
          "base_uri": "https://localhost:8080/"
        },
        "id": "SyB0rvuevyKO",
        "outputId": "355d31ad-f9d0-4097-802a-08874f419d4a"
      },
      "outputs": [
        {
          "output_type": "stream",
          "name": "stdout",
          "text": [
            "Accuracy: 1.00\n",
            "Confusion matrix:\n",
            "[[ 86   0]\n",
            " [  1 128]]\n",
            "Recall: 0.99\n",
            "Precision: 1.00\n"
          ]
        }
      ],
      "source": [
        "from sklearn.datasets import fetch_20newsgroups\n",
        "from sklearn.feature_extraction.text import CountVectorizer\n",
        "from sklearn.model_selection import train_test_split\n",
        "from sklearn.naive_bayes import MultinomialNB\n",
        "from sklearn import metrics\n",
        "\n",
        "# Load dataset\n",
        "newsgroups_train = fetch_20newsgroups(subset='train', categories=['alt.atheism', 'sci.space'])\n",
        "newsgroups_test = fetch_20newsgroups(subset='test', categories=['alt.atheism', 'sci.space'])\n",
        "\n",
        "# Split dataset into train and test data\n",
        "X_train, X_test, y_train, y_test = train_test_split(newsgroups_train.data, newsgroups_train.target, test_size=0.2, random_state=42)\n",
        "\n",
        "# Vectorize messages using CountVectorizer\n",
        "vectorizer = CountVectorizer()\n",
        "X_train_vect = vectorizer.fit_transform(X_train)\n",
        "X_test_vect = vectorizer.transform(X_test)\n",
        "\n",
        "# Train Naive Bayes classifier\n",
        "classifier = MultinomialNB().fit(X_train_vect, y_train)\n",
        "\n",
        "# Predict labels for test data and evaluate classifier performance\n",
        "y_pred = classifier.predict(X_test_vect)\n",
        "accuracy = metrics.accuracy_score(y_test, y_pred)\n",
        "confusion_matrix = metrics.confusion_matrix(y_test, y_pred)\n",
        "recall = metrics.recall_score(y_test, y_pred)\n",
        "precision = metrics.precision_score(y_test, y_pred)\n",
        "\n",
        "# Print performance metrics\n",
        "print(f'Accuracy: {accuracy:.2f}')\n",
        "print(f'Confusion matrix:\\n{confusion_matrix}')\n",
        "print(f'Recall: {recall:.2f}')\n",
        "print(f'Precision: {precision:.2f}')"
      ]
    }
  ]
}